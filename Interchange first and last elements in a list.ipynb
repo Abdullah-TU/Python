{
 "cells": [
  {
   "cell_type": "markdown",
   "id": "967d20e6",
   "metadata": {},
   "source": [
    "# Interchange first and last elements in a list\n",
    "-  [1, 2, 3]\n",
    "- [3, 2, 1]"
   ]
  },
  {
   "cell_type": "code",
   "execution_count": null,
   "id": "9acabfc3",
   "metadata": {},
   "outputs": [],
   "source": [
    "def interchange(list):\n",
    "    "
   ]
  },
  {
   "cell_type": "code",
   "execution_count": 7,
   "id": "fc1cbf3d",
   "metadata": {},
   "outputs": [
    {
     "data": {
      "text/plain": [
       "[3, 2, 1]"
      ]
     },
     "execution_count": 7,
     "metadata": {},
     "output_type": "execute_result"
    }
   ],
   "source": [
    "x = [1, 2, 3]\n",
    "\n",
    "x.reverse()\n",
    "\n",
    "x"
   ]
  },
  {
   "cell_type": "code",
   "execution_count": 17,
   "id": "b4afc6c3",
   "metadata": {},
   "outputs": [
    {
     "name": "stdout",
     "output_type": "stream",
     "text": [
      "Original List: [12, 35, 9, 56, 24]\n",
      "Reversed List: [24, 56, 9, 35, 12]\n"
     ]
    }
   ],
   "source": [
    "def interchange(newList):\n",
    "   print(\"Original List:\", newList)\n",
    "   newList.reverse()\n",
    "   print(\"Reversed List:\", newList)\n",
    "\n",
    "# Driver code\n",
    "m = [12, 35, 9, 56, 24]\n",
    "\n",
    "interchange(m)"
   ]
  },
  {
   "cell_type": "code",
   "execution_count": null,
   "id": "33bc4b2e",
   "metadata": {},
   "outputs": [],
   "source": []
  }
 ],
 "metadata": {
  "kernelspec": {
   "display_name": "Python 3 (ipykernel)",
   "language": "python",
   "name": "python3"
  },
  "language_info": {
   "codemirror_mode": {
    "name": "ipython",
    "version": 3
   },
   "file_extension": ".py",
   "mimetype": "text/x-python",
   "name": "python",
   "nbconvert_exporter": "python",
   "pygments_lexer": "ipython3",
   "version": "3.10.9"
  }
 },
 "nbformat": 4,
 "nbformat_minor": 5
}

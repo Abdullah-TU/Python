{
 "cells": [
  {
   "cell_type": "code",
   "execution_count": 21,
   "metadata": {},
   "outputs": [
    {
     "name": "stdout",
     "output_type": "stream",
     "text": [
      " ### \n",
      "#   #\n",
      "#   #\n",
      "#####\n",
      "#   #\n",
      "#   #\n",
      "#   #\n"
     ]
    }
   ],
   "source": [
    "for row in range(0,7):\n",
    "    for col in range(0,5):\n",
    "        if ( col==0 and row!=0) or (col==4 and row!=0)or ((row ==0 or row==3)and(col> 0 and col<4)):\n",
    "            print('#', end='')\n",
    "        else:\n",
    "            print( end=\" \")\n",
    "    print()  "
   ]
  },
  {
   "cell_type": "code",
   "execution_count": 48,
   "metadata": {},
   "outputs": [
    {
     "name": "stdout",
     "output_type": "stream",
     "text": [
      "#### \n",
      "#   #\n",
      "#   #\n",
      "#### \n",
      "#   #\n",
      "#   #\n",
      "#### \n"
     ]
    }
   ],
   "source": [
    "for row in range(0,7):\n",
    "    for col in range(0,5):\n",
    "        if ( col==0) or (col==4 and (row!=0 and row!=6 and row!=3))or ((row ==0 or row==6 or row==3)and(col> 0 and col<4)):\n",
    "            print('#', end='')\n",
    "        else:\n",
    "            print( end=\" \")\n",
    "    print()  "
   ]
  },
  {
   "cell_type": "code",
   "execution_count": 22,
   "metadata": {},
   "outputs": [
    {
     "name": "stdout",
     "output_type": "stream",
     "text": [
      " ### \n",
      "#    \n",
      "#    \n",
      "#    \n",
      "#    \n",
      "#    \n",
      " ### \n"
     ]
    }
   ],
   "source": [
    "for row in range(0,7):\n",
    "    for col in range(0,5):\n",
    "        if (col==0 and (row!=0 and row!=6))or ((row ==0 or row==6)and(col> 0 and col<4)):\n",
    "            print('#', end='')\n",
    "        else:\n",
    "            print( end=\" \")\n",
    "    print()  "
   ]
  },
  {
   "cell_type": "code",
   "execution_count": 23,
   "metadata": {},
   "outputs": [
    {
     "name": "stdout",
     "output_type": "stream",
     "text": [
      "#### \n",
      "#   #\n",
      "#   #\n",
      "#   #\n",
      "#   #\n",
      "#   #\n",
      "#### \n"
     ]
    }
   ],
   "source": [
    "for row in range(0,7):\n",
    "    for col in range(0,5):\n",
    "        if ( col==0) or (col==4 and (row!=0 and row!=6))or ((row ==0 or row==6)and(col> 0 and col<4)):\n",
    "            print('#', end='')\n",
    "        else:\n",
    "            print( end=\" \")\n",
    "    print()  "
   ]
  },
  {
   "cell_type": "code",
   "execution_count": 24,
   "metadata": {},
   "outputs": [
    {
     "name": "stdout",
     "output_type": "stream",
     "text": [
      "####\n",
      "#   \n",
      "#   \n",
      "####\n",
      "#   \n",
      "#   \n",
      "####\n"
     ]
    }
   ],
   "source": [
    "for row in range(0,7):\n",
    "    for col in range(0,4):\n",
    "        if ((row==0 or row==6 or col==0 )or(row==3)):\n",
    "            print('#', end='')\n",
    "        else:\n",
    "            print( end=\" \")\n",
    "    print()  "
   ]
  },
  {
   "cell_type": "code",
   "execution_count": 25,
   "metadata": {},
   "outputs": [
    {
     "name": "stdout",
     "output_type": "stream",
     "text": [
      "####\n",
      "#   \n",
      "#   \n",
      "####\n",
      "#   \n",
      "#   \n",
      "#   \n"
     ]
    }
   ],
   "source": [
    "for row in range(0,7):\n",
    "    for col in range(0,4):\n",
    "        if ((row==0  or col==0 )or(row==3)):\n",
    "            print('#', end='')\n",
    "        else:\n",
    "            print( end=\" \")\n",
    "    print()  "
   ]
  },
  {
   "cell_type": "code",
   "execution_count": 26,
   "metadata": {},
   "outputs": [
    {
     "name": "stdout",
     "output_type": "stream",
     "text": [
      " ###  \n",
      "#     \n",
      "#     \n",
      "#  ## \n",
      "#   # \n",
      "#   # \n",
      " ###  \n"
     ]
    }
   ],
   "source": [
    "for row in range(0,7):\n",
    "    for col in range(0,6):\n",
    "        if ( col==0 and (row!=0 and row!=6) or (col==4 and (row!=0 and row!=1 and row!=2 and row!=6)) or (col==3 and row==3) and (row!=0 and row!=6))  or ((row ==0 or row==6) and (col> 0 and col<4)):\n",
    "            print('#', end='')\n",
    "        else:\n",
    "            print( end=\" \")\n",
    "    print()  "
   ]
  },
  {
   "cell_type": "code",
   "execution_count": 27,
   "metadata": {},
   "outputs": [
    {
     "name": "stdout",
     "output_type": "stream",
     "text": [
      "#  #\n",
      "#  #\n",
      "#  #\n",
      "####\n",
      "#  #\n",
      "#  #\n",
      "#  #\n"
     ]
    }
   ],
   "source": [
    "for row in range(0,7):\n",
    "    for col in range(0,4):\n",
    "        if ((col==0  or col==3 )or(row==3)):\n",
    "            print('#', end='')\n",
    "        else:\n",
    "            print( end=\" \")\n",
    "    print()  \n"
   ]
  },
  {
   "cell_type": "code",
   "execution_count": 45,
   "metadata": {},
   "outputs": [
    {
     "name": "stdout",
     "output_type": "stream",
     "text": [
      "###\n",
      " # \n",
      " # \n",
      " # \n",
      " # \n",
      " # \n",
      "###\n"
     ]
    }
   ],
   "source": [
    "for row in range(0,7):\n",
    "    for col in range(0,3):\n",
    "        if (( col==1  or row ==0  or row==6)):\n",
    "            print('#', end='')\n",
    "        else:\n",
    "            print( end=\" \")\n",
    "    print()  "
   ]
  },
  {
   "cell_type": "code",
   "execution_count": 28,
   "metadata": {},
   "outputs": [
    {
     "name": "stdout",
     "output_type": "stream",
     "text": [
      " ####\n",
      "    #\n",
      "    #\n",
      "    #\n",
      "    #\n",
      "#   #\n",
      " ### \n"
     ]
    }
   ],
   "source": [
    "for row in range(0,7):\n",
    "    for col in range(0,5):\n",
    "        if (col==4 and  row!=6)  or (col==0 and row==5) or ((row ==0 or row==6) and (col> 0 and col<4)):\n",
    "            print('#', end='')\n",
    "        else:\n",
    "            print( end=\" \")\n",
    "    print()  "
   ]
  },
  {
   "cell_type": "code",
   "execution_count": 29,
   "metadata": {},
   "outputs": [
    {
     "name": "stdout",
     "output_type": "stream",
     "text": [
      "#   #\n",
      "#  # \n",
      "# #  \n",
      "##   \n",
      "# #  \n",
      "#  # \n",
      "#   #\n"
     ]
    }
   ],
   "source": [
    "i=0\n",
    "j=4\n",
    "for row in range(0,7):\n",
    "    for col in range(0,5):\n",
    "        if col==0  or (row==col+2 and col>1):\n",
    "            print('#', end='')\n",
    "        elif (row ==i and col==j):\n",
    "            print('#', end='')\n",
    "            i=i+1\n",
    "            j=j-1       \n",
    "        else:\n",
    "            print( end=\" \")\n",
    "    print()  "
   ]
  },
  {
   "cell_type": "code",
   "execution_count": 30,
   "metadata": {},
   "outputs": [
    {
     "name": "stdout",
     "output_type": "stream",
     "text": [
      "#    \n",
      "#    \n",
      "#    \n",
      "#    \n",
      "#    \n",
      "#    \n",
      "#####\n"
     ]
    }
   ],
   "source": [
    "for row in range(0,7):\n",
    "    for col in range(0,5):\n",
    "        if ( col==0 or  row==6):\n",
    "            print('#', end='')\n",
    "        else:\n",
    "            print( end=\" \")\n",
    "    print()  "
   ]
  },
  {
   "cell_type": "code",
   "execution_count": 31,
   "metadata": {},
   "outputs": [
    {
     "name": "stdout",
     "output_type": "stream",
     "text": [
      "#     #\n",
      "##   ##\n",
      "# # # #\n",
      "#  #  #\n",
      "#     #\n",
      "#     #\n",
      "#     #\n"
     ]
    }
   ],
   "source": [
    "for row in range(0,7):\n",
    "    for col in range(0,7):\n",
    "        if col==0 or col==6 or ((row==col) and (col>0 and col<4)) or (row==1 and col==5) or (row ==2 and col==4):\n",
    "            print('#', end='')     \n",
    "        else:\n",
    "            print( end=\" \")\n",
    "    print()  "
   ]
  },
  {
   "cell_type": "code",
   "execution_count": 32,
   "metadata": {},
   "outputs": [
    {
     "name": "stdout",
     "output_type": "stream",
     "text": [
      "#    #\n",
      "##   #\n",
      "# #  #\n",
      "#  # #\n",
      "#   ##\n",
      "#    #\n"
     ]
    }
   ],
   "source": [
    "for row in range(0,6):\n",
    "    for col in range(0,6):\n",
    "        if col==0 or col==5 or (row==col and (col>0 and col<5)):\n",
    "            print('#', end='')     \n",
    "        else:\n",
    "            print( end=\" \")\n",
    "    print()  "
   ]
  },
  {
   "cell_type": "code",
   "execution_count": 33,
   "metadata": {},
   "outputs": [
    {
     "name": "stdout",
     "output_type": "stream",
     "text": [
      " ### \n",
      "#   #\n",
      "#   #\n",
      "#   #\n",
      "#   #\n",
      "#   #\n",
      " ### \n"
     ]
    }
   ],
   "source": [
    "for row in range(0,7):\n",
    "    for col in range(0,5):\n",
    "        if (( col==0 or col==4) and (row!=0 and row!=6))  or ((row ==0 or row==6) and (col> 0 and col<4)):\n",
    "            print('#', end='')\n",
    "        else:\n",
    "            print( end=\" \")\n",
    "    print()  "
   ]
  },
  {
   "cell_type": "code",
   "execution_count": 34,
   "metadata": {},
   "outputs": [
    {
     "name": "stdout",
     "output_type": "stream",
     "text": [
      "#### \n",
      "#   #\n",
      "#   #\n",
      "#### \n",
      "#    \n",
      "#    \n",
      "#    \n"
     ]
    }
   ],
   "source": [
    "for row in range(0,7):\n",
    "    for col in range(0,5):\n",
    "        if (col==0 or (col==4 and (row!=0 and row!=3 and row!=4 and row!=5 and row!=6))) or ((row ==0 or row==3) and (col> 0 and col<4)):\n",
    "            print('#', end='')\n",
    "        else:\n",
    "            print( end=\" \")\n",
    "    print()  "
   ]
  },
  {
   "cell_type": "code",
   "execution_count": 35,
   "metadata": {},
   "outputs": [
    {
     "name": "stdout",
     "output_type": "stream",
     "text": [
      " ###  \n",
      "#   # \n",
      "#   # \n",
      "#   # \n",
      "# # # \n",
      "#  ###\n",
      " ### #\n"
     ]
    }
   ],
   "source": [
    "for row in range(0,7):\n",
    "    for col in range(0,6):\n",
    "        if (( col==0 or col==4) and (row!=0 and row!=6)) or (row==4 and col==2) or (row==5 and (col==3 or col==5))or (row==6 and  col==5) or ((row ==0 or row==6) and (col> 0 and col<4)):\n",
    "            print('#', end='')\n",
    "        else:\n",
    "            print( end=\" \")\n",
    "    print()  "
   ]
  },
  {
   "cell_type": "code",
   "execution_count": 36,
   "metadata": {},
   "outputs": [
    {
     "name": "stdout",
     "output_type": "stream",
     "text": [
      "#### \n",
      "#   #\n",
      "#   #\n",
      "#### \n",
      "#   #\n",
      "#   #\n",
      "#   #\n"
     ]
    }
   ],
   "source": [
    "for row in range(0,7):\n",
    "    for col in range(0,5):\n",
    "        if (col==0 or (col==4 and (row!=0 and row!=3))) or ((row ==0 or row==3) and (col> 0 and col<4)):\n",
    "            print('#', end='')\n",
    "        else:\n",
    "            print( end=\" \")\n",
    "    print()  "
   ]
  },
  {
   "cell_type": "code",
   "execution_count": 37,
   "metadata": {},
   "outputs": [
    {
     "name": "stdout",
     "output_type": "stream",
     "text": [
      " ### \n",
      "#   #\n",
      "#    \n",
      " ### \n",
      "    #\n",
      "#   #\n",
      " ### \n"
     ]
    }
   ],
   "source": [
    "for row in range(0,7):\n",
    "    for col in range(0,5):\n",
    "        if ( col==0 and (row!=0 and row!=6 and row!=3 and row!=4)) or (col==4 and (row!=0 and row!=6 and row!=3 and row!=2 ))  or ((row ==0  or row==3 or row==6) and (col> 0 and col<4)):\n",
    "            print('#', end='')\n",
    "        else:\n",
    "            print( end=\" \")\n",
    "    print()  "
   ]
  },
  {
   "cell_type": "code",
   "execution_count": 38,
   "metadata": {},
   "outputs": [
    {
     "name": "stdout",
     "output_type": "stream",
     "text": [
      "#####\n",
      "  #  \n",
      "  #  \n",
      "  #  \n",
      "  #  \n",
      "  #  \n",
      "  #  \n"
     ]
    }
   ],
   "source": [
    "for row in range(0,7):\n",
    "    for col in range(0,5):\n",
    "        if (( col==2  or row ==0 )):\n",
    "            print('#', end='')\n",
    "        else:\n",
    "            print( end=\" \")\n",
    "    print()  "
   ]
  },
  {
   "cell_type": "code",
   "execution_count": 39,
   "metadata": {},
   "outputs": [
    {
     "name": "stdout",
     "output_type": "stream",
     "text": [
      "#   #\n",
      "#   #\n",
      "#   #\n",
      "#   #\n",
      "#   #\n",
      "#   #\n",
      " ### \n"
     ]
    }
   ],
   "source": [
    "for row in range(0,7):\n",
    "    for col in range(0,5):\n",
    "        if (( col==0 or col==4) and (row!=6))  or (( row==6) and (col> 0 and col<4)):\n",
    "            print('#', end='')\n",
    "        else:\n",
    "            print( end=\" \")\n",
    "    print()  "
   ]
  },
  {
   "cell_type": "code",
   "execution_count": 40,
   "metadata": {},
   "outputs": [
    {
     "name": "stdout",
     "output_type": "stream",
     "text": [
      "#     #\n",
      " #   # \n",
      "  # #  \n",
      "   #   \n"
     ]
    }
   ],
   "source": [
    "for row in range(0,4):\n",
    "    for col in range(0,7):\n",
    "        if (row-col==0)or(row+col==6):\n",
    "            print('#', end='')     \n",
    "        else:\n",
    "            print( end=\" \")\n",
    "    print()  "
   ]
  },
  {
   "cell_type": "code",
   "execution_count": 41,
   "metadata": {},
   "outputs": [
    {
     "name": "stdout",
     "output_type": "stream",
     "text": [
      "#     #      #\n",
      " #   #  #   # \n",
      "  # #    # #  \n",
      "   #      #   \n"
     ]
    }
   ],
   "source": [
    "for row in range(0,4):\n",
    "    for col in range(0,14):\n",
    "        if (row-col==0)or(row+col==6):\n",
    "            print('#', end='')    \n",
    "            \n",
    "        elif col==3 and (row-col==1)or(row+col==13) or (col==8 and row==1) or (col==9 and row==2):\n",
    "            print('#', end='') \n",
    "  \n",
    "        else:\n",
    "            print( end=\" \")\n",
    "    print()  "
   ]
  },
  {
   "cell_type": "code",
   "execution_count": 42,
   "metadata": {},
   "outputs": [
    {
     "name": "stdout",
     "output_type": "stream",
     "text": [
      "#     #\n",
      " #   # \n",
      "  # #  \n",
      "   #   \n",
      "  # #  \n",
      " #   # \n",
      "#     #\n",
      "       \n"
     ]
    }
   ],
   "source": [
    "for row in range(0,8):\n",
    "    for col in range(0,7):\n",
    "        if (row-col==0)or(row+col==6) or (col==1 and row==5):\n",
    "            print('#', end='')     \n",
    "        else:\n",
    "            print( end=\" \")\n",
    "    print()  "
   ]
  },
  {
   "cell_type": "code",
   "execution_count": 43,
   "metadata": {},
   "outputs": [
    {
     "name": "stdout",
     "output_type": "stream",
     "text": [
      "#   #\n",
      " # # \n",
      "  #  \n",
      "  #  \n",
      "  #  \n",
      "  #  \n",
      "  #  \n"
     ]
    }
   ],
   "source": [
    "for row in range(0,7):\n",
    "    for col in range(0,5):\n",
    "        if (col==2 and row>1) or (row==col and col<2)or (col==4 and row<1) or (row==1 and col==3):\n",
    "            print('#', end='')\n",
    "        else:\n",
    "            print( end=\" \")\n",
    "    print()  "
   ]
  },
  {
   "cell_type": "code",
   "execution_count": 44,
   "metadata": {},
   "outputs": [
    {
     "name": "stdout",
     "output_type": "stream",
     "text": [
      "#######\n",
      "     # \n",
      "    #  \n",
      "   #   \n",
      "  #    \n",
      " #     \n",
      "#######\n",
      "       \n"
     ]
    }
   ],
   "source": [
    "for row in range(0,8):\n",
    "    for col in range(0,7):\n",
    "        if (row+col==6) or (col==1 and row==5) or (row==0 or row==6):\n",
    "            print('#', end='')     \n",
    "        else:\n",
    "            print( end=\" \")\n",
    "    print()  "
   ]
  },
  {
   "cell_type": "code",
   "execution_count": null,
   "metadata": {},
   "outputs": [],
   "source": []
  }
 ],
 "metadata": {
  "kernelspec": {
   "display_name": "Python 3",
   "language": "python",
   "name": "python3"
  },
  "language_info": {
   "codemirror_mode": {
    "name": "ipython",
    "version": 3
   },
   "file_extension": ".py",
   "mimetype": "text/x-python",
   "name": "python",
   "nbconvert_exporter": "python",
   "pygments_lexer": "ipython3",
   "version": "3.7.4"
  }
 },
 "nbformat": 4,
 "nbformat_minor": 2
}
